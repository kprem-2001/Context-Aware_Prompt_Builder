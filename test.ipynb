{
 "cells": [
  {
   "cell_type": "code",
   "execution_count": 1,
   "id": "96efbe99",
   "metadata": {},
   "outputs": [
    {
     "name": "stderr",
     "output_type": "stream",
     "text": [
      "c:\\Users\\91885\\anaconda3\\envs\\intern\\lib\\site-packages\\tqdm\\auto.py:21: TqdmWarning: IProgress not found. Please update jupyter and ipywidgets. See https://ipywidgets.readthedocs.io/en/stable/user_install.html\n",
      "  from .autonotebook import tqdm as notebook_tqdm\n"
     ]
    }
   ],
   "source": [
    "from dotenv import load_dotenv\n",
    "import os\n",
    "from langchain_community.embeddings import HuggingFaceEmbeddings\n",
    "from langchain_core.documents import Document\n",
    "from langchain_pinecone import PineconeVectorStore\n",
    "from pinecone import Pinecone, ServerlessSpec"
   ]
  },
  {
   "cell_type": "code",
   "execution_count": 2,
   "id": "77649c61",
   "metadata": {},
   "outputs": [],
   "source": [
    "slides = [\n",
    "    \"Meena met Mathur in Lodhi Garden, under the rain.\",\n",
    "    \"They shared chai and laughter in Khan Market.\",\n",
    "    \"Mathur reveals he’s leaving for London in a week.\"\n",
    "]\n",
    "\n",
    "# Convert to LangChain Documents\n",
    "documents = [Document(page_content=slide) for slide in slides]"
   ]
  },
  {
   "cell_type": "code",
   "execution_count": 3,
   "id": "b4334d59",
   "metadata": {},
   "outputs": [],
   "source": [
    "load_dotenv()\n",
    "PINECONE_API_KEY = os.getenv(\"PINECONE_API_KEY\")"
   ]
  },
  {
   "cell_type": "code",
   "execution_count": 4,
   "id": "63d7d37c",
   "metadata": {},
   "outputs": [
    {
     "name": "stdout",
     "output_type": "stream",
     "text": [
      "pcsk_8EzX9_4dxK8xMuCVmFi1FwuNPxRAMwWF7HAwfhiA3VYNbGARMDPvY8CkqCqGSUVqUPKbG\n"
     ]
    }
   ],
   "source": [
    "print(PINECONE_API_KEY)"
   ]
  },
  {
   "cell_type": "code",
   "execution_count": 5,
   "id": "4c8d699f",
   "metadata": {},
   "outputs": [],
   "source": [
    "from langchain.embeddings import HuggingFaceEmbeddings"
   ]
  },
  {
   "cell_type": "code",
   "execution_count": 6,
   "id": "e00aa123",
   "metadata": {},
   "outputs": [],
   "source": [
    "def download_huggingface_embeddding():\n",
    "    embeddings = HuggingFaceEmbeddings(\n",
    "        model_name=\"sentence-transformers/all-mpnet-base-v2\")\n",
    "    return embeddings"
   ]
  },
  {
   "cell_type": "code",
   "execution_count": 7,
   "id": "1f676d44",
   "metadata": {},
   "outputs": [
    {
     "name": "stderr",
     "output_type": "stream",
     "text": [
      "C:\\Users\\91885\\AppData\\Local\\Temp\\ipykernel_7384\\3429849932.py:2: LangChainDeprecationWarning: The class `HuggingFaceEmbeddings` was deprecated in LangChain 0.2.2 and will be removed in 1.0. An updated version of the class exists in the :class:`~langchain-huggingface package and should be used instead. To use it run `pip install -U :class:`~langchain-huggingface` and import as `from :class:`~langchain_huggingface import HuggingFaceEmbeddings``.\n",
      "  embeddings = HuggingFaceEmbeddings(\n"
     ]
    }
   ],
   "source": [
    "embedding = download_huggingface_embeddding()"
   ]
  },
  {
   "cell_type": "code",
   "execution_count": null,
   "id": "fd16f895",
   "metadata": {},
   "outputs": [],
   "source": []
  },
  {
   "cell_type": "code",
   "execution_count": 8,
   "id": "777eac5b",
   "metadata": {},
   "outputs": [],
   "source": [
    "import os"
   ]
  },
  {
   "cell_type": "code",
   "execution_count": 9,
   "id": "1d2e28ea",
   "metadata": {},
   "outputs": [
    {
     "data": {
      "text/plain": [
       "{\n",
       "    \"name\": \"hii\",\n",
       "    \"metric\": \"cosine\",\n",
       "    \"host\": \"hii-hu1niv7.svc.aped-4627-b74a.pinecone.io\",\n",
       "    \"spec\": {\n",
       "        \"serverless\": {\n",
       "            \"cloud\": \"aws\",\n",
       "            \"region\": \"us-east-1\"\n",
       "        }\n",
       "    },\n",
       "    \"status\": {\n",
       "        \"ready\": true,\n",
       "        \"state\": \"Ready\"\n",
       "    },\n",
       "    \"vector_type\": \"dense\",\n",
       "    \"dimension\": 768,\n",
       "    \"deletion_protection\": \"disabled\",\n",
       "    \"tags\": null\n",
       "}"
      ]
     },
     "execution_count": 9,
     "metadata": {},
     "output_type": "execute_result"
    }
   ],
   "source": [
    "from pinecone import Pinecone, ServerlessSpec\n",
    "\n",
    "pc = Pinecone(api_key=PINECONE_API_KEY)\n",
    "\n",
    "index_name = \"hii\"\n",
    "\n",
    "pc.create_index(\n",
    "    name=index_name,\n",
    "    dimension=768,  # Replace with your model dimensions\n",
    "    metric=\"cosine\",  # Replace with your model metric\n",
    "    spec=ServerlessSpec(\n",
    "        cloud=\"aws\",\n",
    "        region=\"us-east-1\"\n",
    "    )\n",
    ")"
   ]
  },
  {
   "cell_type": "code",
   "execution_count": 10,
   "id": "839fd42f",
   "metadata": {},
   "outputs": [],
   "source": [
    "\n",
    "\n",
    "# Create the vector store\n",
    "docsearch = PineconeVectorStore.from_documents(\n",
    "    documents=documents,\n",
    "    index_name=index_name,\n",
    "    embedding=embedding\n",
    ")"
   ]
  },
  {
   "cell_type": "code",
   "execution_count": 11,
   "id": "68c7aa40",
   "metadata": {},
   "outputs": [],
   "source": [
    "docsearch = PineconeVectorStore.from_existing_index(\n",
    "    index_name=\"hii\",\n",
    "    embedding=embedding\n",
    "\n",
    ")"
   ]
  },
  {
   "cell_type": "code",
   "execution_count": 12,
   "id": "8add76fe",
   "metadata": {},
   "outputs": [],
   "source": [
    "retriever = docsearch.as_retriever(\n",
    "    search_type=\"similarity\", search_kwargs={\"k\": 1})"
   ]
  },
  {
   "cell_type": "code",
   "execution_count": 15,
   "id": "15da2ea2",
   "metadata": {},
   "outputs": [],
   "source": [
    "user_prompt = \"Continue the story with emotions\"\n",
    "retrieved_doc = retriever.invoke(user_prompt)"
   ]
  },
  {
   "cell_type": "code",
   "execution_count": 16,
   "id": "0a20ad29",
   "metadata": {},
   "outputs": [
    {
     "data": {
      "text/plain": [
       "[Document(id='d52a4b44-a2f3-4d88-8eaf-0086592f30da', metadata={}, page_content='They shared chai and laughter in Khan Market.')]"
      ]
     },
     "execution_count": 16,
     "metadata": {},
     "output_type": "execute_result"
    }
   ],
   "source": [
    "retrieved_doc"
   ]
  },
  {
   "cell_type": "code",
   "execution_count": 20,
   "id": "ba2d3eab",
   "metadata": {},
   "outputs": [
    {
     "name": "stdout",
     "output_type": "stream",
     "text": [
      "User Instruction: Continue the story with more emotional tension and vulnerability.\n",
      "\n"
     ]
    }
   ],
   "source": [
    "user_instruction = \"Continue the story with more emotional tension and vulnerability.\" # [cite: 1]\n",
    "print(f\"User Instruction: {user_instruction}\\n\")"
   ]
  },
  {
   "cell_type": "code",
   "execution_count": 21,
   "id": "32aae2d0",
   "metadata": {},
   "outputs": [],
   "source": [
    "retrieved_docs = retriever.invoke(user_instruction)"
   ]
  },
  {
   "cell_type": "code",
   "execution_count": 22,
   "id": "cecce42a",
   "metadata": {},
   "outputs": [
    {
     "data": {
      "text/plain": [
       "[Document(id='ea403274-f59f-4200-9b2d-27e86cdf33b5', metadata={}, page_content='Mathur reveals he’s leaving for London in a week.')]"
      ]
     },
     "execution_count": 22,
     "metadata": {},
     "output_type": "execute_result"
    }
   ],
   "source": [
    "retrieved_docs"
   ]
  },
  {
   "cell_type": "code",
   "execution_count": 19,
   "id": "bf4aa2da",
   "metadata": {},
   "outputs": [
    {
     "name": "stdout",
     "output_type": "stream",
     "text": [
      "User Instruction: Continue the story with more emotional tension and vulnerability.\n",
      "\n",
      "Most Relevant Slide:\n",
      "Slide 3: \"Mathur reveals he’s leaving for London in a week.\"\n",
      "\n",
      "Final Prompt:\n",
      "You are continuing a love story between Meena and Mathur.\n",
      "Previously, Mathur reveals he’s leaving for London in a week.\n",
      "Now, write the next slide with more emotional tension and vulnerability.\n"
     ]
    }
   ],
   "source": [
    "# Assume 'retriever' is already defined and configured as in your notebook\n",
    "# Assume 'embedding' is also defined\n",
    "\n",
    "# --- Previous parts of your script ---\n",
    "# (Loading slides, creating documents, setting up Pinecone, embedding, retriever)\n",
    "\n",
    "# Use the user instruction from the PDF for consistent testing\n",
    "user_instruction = \"Continue the story with more emotional tension and vulnerability.\" # [cite: 1]\n",
    "print(f\"User Instruction: {user_instruction}\\n\")\n",
    "\n",
    "# 1. Retrieve the single most relevant slide\n",
    "# Ensure your retriever is correctly configured to return k=1\n",
    "# If you are still getting two documents, you need to debug that part of your\n",
    "# PineconeVectorStore setup or how documents were indexed.\n",
    "# For this example, we'll assume `retrieved_docs` contains ONE document.\n",
    "retrieved_docs = retriever.invoke(user_instruction)\n",
    "\n",
    "# Check if documents were retrieved and handle potential issues\n",
    "if not retrieved_docs:\n",
    "    print(\"No relevant slide found.\")\n",
    "else:\n",
    "    # Assuming the retriever correctly returns only one document as per k=1\n",
    "    # If it's returning a list, take the first element.\n",
    "    # You might need to add error handling if it's not a list or is empty.\n",
    "    most_relevant_slide_doc = retrieved_docs[0] if isinstance(retrieved_docs, list) else retrieved_docs\n",
    "    relevant_slide_content = most_relevant_slide_doc.page_content\n",
    "\n",
    "    # 2. Print the \"Most Relevant Slide\"\n",
    "    # Find which of the original slides matches the retrieved content to get its \"Slide X\" label.\n",
    "    # The starter slides are:\n",
    "    # Slide 1: Meena met Mathur in Lodhi Garden, under the rain.\n",
    "    # Slide 2: They shared chai and laughter in Khan Market.\n",
    "    # Slide 3: Mathur reveals he's leaving for London in a week. [cite: 1]\n",
    "\n",
    "    slide_label = \"\"\n",
    "    if relevant_slide_content == \"Meena met Mathur in Lodhi Garden, under the rain.\":\n",
    "        slide_label = \"Slide 1: \"\n",
    "    elif relevant_slide_content == \"They shared chai and laughter in Khan Market.\":\n",
    "        slide_label = \"Slide 2: \"\n",
    "    elif relevant_slide_content == \"Mathur reveals he’s leaving for London in a week.\": # Content from your slides variable\n",
    "        slide_label = \"Slide 3: \"\n",
    "\n",
    "    print(\"Most Relevant Slide:\") # [cite: 1]\n",
    "    print(f'{slide_label}\"{relevant_slide_content}\"\\n') # [cite: 1]\n",
    "\n",
    "    # 3. Print the \"Final Prompt\"\n",
    "    final_prompt = (\n",
    "        \"You are continuing a love story between Meena and Mathur.\\n\" # [cite: 1]\n",
    "        f\"Previously, {relevant_slide_content.rstrip('.')}.\\n\" # [cite: 1] Modified to use retrieved content\n",
    "        f\"Now, write the next slide with more emotional tension and vulnerability.\" # [cite: 1] (using the PDF's instruction)\n",
    "    )\n",
    "    print(\"Final Prompt:\") # [cite: 1]\n",
    "    print(final_prompt)\n",
    "\n",
    "# --- For dynamic input as per PDF objective 3 ---\n",
    "# To \"Accepts a new user instruction\" dynamically, you could use:\n",
    "# user_instruction_dynamic = input(\"Enter your instruction to continue the story: \")\n",
    "# Then use user_instruction_dynamic in the retriever.invoke() call"
   ]
  },
  {
   "cell_type": "code",
   "execution_count": null,
   "id": "36e83f0f",
   "metadata": {},
   "outputs": [],
   "source": []
  }
 ],
 "metadata": {
  "kernelspec": {
   "display_name": "intern",
   "language": "python",
   "name": "python3"
  },
  "language_info": {
   "codemirror_mode": {
    "name": "ipython",
    "version": 3
   },
   "file_extension": ".py",
   "mimetype": "text/x-python",
   "name": "python",
   "nbconvert_exporter": "python",
   "pygments_lexer": "ipython3",
   "version": "3.10.17"
  }
 },
 "nbformat": 4,
 "nbformat_minor": 5
}
